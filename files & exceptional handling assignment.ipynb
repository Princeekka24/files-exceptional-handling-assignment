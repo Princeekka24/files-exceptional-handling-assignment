{
 "cells": [
  {
   "cell_type": "markdown",
   "id": "40792220",
   "metadata": {},
   "source": [
    "# 1. Multithreading vs. Multiprocessing Scenarion:"
   ]
  },
  {
   "cell_type": "markdown",
   "id": "38b33de5",
   "metadata": {},
   "source": [
    "Multithreading is preferable when:\n",
    "\n",
    "Tasks are I/O-bound, like reading/writing to disk, networking, or waiting for user input.\n",
    "Multiple tasks need to be handled concurrently in real-time (e.g., handling multiple client requests in a server).\n",
    "Minimal CPU processing is involved, but there is a need for fast switching between threads.\n",
    "Multiprocessing is better when:\n",
    "\n",
    "Tasks are CPU-bound, such as mathematical computations or processing large datasets.\n",
    "You need true parallelism across multiple CPU cores, as Python's Global Interpreter Lock (GIL) restricts multithreading's ability to utilize multiple cores effectively.\n",
    "The processes are independent and don't need to share large amounts of data frequently."
   ]
  },
  {
   "cell_type": "markdown",
   "id": "cd24c880",
   "metadata": {},
   "source": [
    "# 2. Process Pool"
   ]
  },
  {
   "cell_type": "markdown",
   "id": "9e8cb087",
   "metadata": {},
   "source": [
    "A process pool is a collection of pre-initialized worker processes. It manages a pool of workers that are used to execute tasks concurrently. It helps by:\n",
    "\n",
    "Reducing the overhead of creating and destroying processes repeatedly for each task.\n",
    "Providing a mechanism to distribute the workload among available processes in a balanced way.\n",
    "Allowing efficient task management by automatically queuing new tasks and assigning them to available processes in the pool."
   ]
  },
  {
   "cell_type": "markdown",
   "id": "8ec33dce",
   "metadata": {},
   "source": [
    "# 3. Multiprocessing in Python"
   ]
  },
  {
   "cell_type": "markdown",
   "id": "f40a49a0",
   "metadata": {},
   "source": [
    "Multiprocessing in Python is a module that allows the execution of tasks across multiple processes, each with its own memory space. It is used to:\n",
    "\n",
    "Bypass the limitations of Python’s GIL, which restricts multithreading's ability to fully utilize multiple CPU cores.\n",
    "Perform CPU-intensive operations in parallel, leading to significant performance improvements, especially on multi-core processors.\n",
    "Achieve true parallelism by running multiple tasks on different CPU cores simultaneously."
   ]
  },
  {
   "cell_type": "markdown",
   "id": "5caefd40",
   "metadata": {},
   "source": [
    "# 4. Multithreading Example with Lock "
   ]
  },
  {
   "cell_type": "code",
   "execution_count": null,
   "id": "afed014c",
   "metadata": {},
   "outputs": [],
   "source": [
    "import threading\n",
    "import time\n",
    "\n",
    "shared_list = []\n",
    "lock = threading.Lock()\n",
    "\n",
    "def add_to_list():\n",
    "    for i in range(5):\n",
    "        with lock:\n",
    "            shared_list.append(i)\n",
    "            print(f'Added: {i}')\n",
    "        time.sleep(1)\n",
    "\n",
    "def remove_from_list():\n",
    "    while True:\n",
    "        with lock:\n",
    "            if shared_list:\n",
    "                removed = shared_list.pop(0)\n",
    "                print(f'Removed: {removed}')\n",
    "            else:\n",
    "                break\n",
    "        time.sleep(1)\n",
    "\n",
    "thread1 = threading.Thread(target=add_to_list)\n",
    "thread2 = threading.Thread(target=remove_from_list)\n",
    "\n",
    "thread1.start()\n",
    "thread1.join()\n",
    "thread2.start()\n",
    "thread2.join()\n",
    "\n",
    "print('Final list:', shared_list)"
   ]
  },
  {
   "cell_type": "markdown",
   "id": "bd4520f9",
   "metadata": {},
   "source": [
    "Here, we use threading.Lock() to prevent race conditions while adding and removing items from the shared list. The lock ensures that only one thread can access the list at a time."
   ]
  },
  {
   "cell_type": "markdown",
   "id": "d2542d7a",
   "metadata": {},
   "source": [
    "# 5. Sharing Data Safely Between Threads and Processes"
   ]
  },
  {
   "cell_type": "markdown",
   "id": "29da7a27",
   "metadata": {},
   "source": [
    "Threads: You can share data between threads using shared variables. To avoid race conditions, tools like threading.Lock, threading.RLock, and threading.Condition can be used.\n",
    "\n",
    "Processes: Sharing data between processes is more complex because each process has its own memory space. Tools such as:\n",
    "\n",
    "multiprocessing.Queue: A thread-safe FIFO queue.\n",
    "multiprocessing.Pipe: Allows direct communication between processes.\n",
    "multiprocessing.Manager: Manages shared data (like lists, dictionaries) between processes safely."
   ]
  },
  {
   "cell_type": "markdown",
   "id": "ca96cb23",
   "metadata": {},
   "source": [
    "# 6. Handling Exceptions in Concurrent Programs"
   ]
  },
  {
   "cell_type": "markdown",
   "id": "5bb886fa",
   "metadata": {},
   "source": [
    "Handling exceptions in concurrent programs is crucial because:\n",
    "\n",
    "Unhandled exceptions in one thread/process may lead to inconsistent program states.\n",
    "Exceptions can cause the entire program to crash if not managed properly.\n",
    "Techniques for handling exceptions:\n",
    "\n",
    "try-except blocks: Wrap the code that could fail in a try-except block to handle errors gracefully.\n",
    "concurrent.futures: Provides mechanisms like future.result() to capture exceptions raised in a separate thread or process.\n",
    "Logging: Use logging to record exceptions for later debugging.\n",
    "These techniques ensure smooth error handling and recovery during concurrent execution."
   ]
  },
  {
   "cell_type": "markdown",
   "id": "48cd7af5",
   "metadata": {},
   "source": [
    "# 7. Thread Pool Example to Calculate Factorials Using concurrent.futures.ThreadPoolExecutor"
   ]
  },
  {
   "cell_type": "markdown",
   "id": "ee38da43",
   "metadata": {},
   "source": [
    "In this program, we use a thread pool to calculate the factorials of numbers from 1 to 10 concurrently."
   ]
  },
  {
   "cell_type": "code",
   "execution_count": null,
   "id": "ac88ea85",
   "metadata": {},
   "outputs": [],
   "source": [
    "import concurrent.futures\n",
    "import math\n",
    "\n",
    "def factorial(n):\n",
    "    return math.factorial(n)\n",
    "\n",
    "with concurrent.futures.ThreadPoolExecutor() as executor:\n",
    "    numbers = range(1, 11)\n",
    "    \n",
    "    results = executor.map(factorial, numbers)\n",
    "\n",
    "for num, result in zip(numbers, results):\n",
    "    print(f'Factorial of {num} is {result}')"
   ]
  },
  {
   "cell_type": "markdown",
   "id": "e7707312",
   "metadata": {},
   "source": [
    "Here, ThreadPoolExecutor.map() runs the factorial function concurrently across multiple threads. The thread pool manages the threads efficiently, and the results are printed once all tasks are complete."
   ]
  },
  {
   "cell_type": "markdown",
   "id": "98fb046e",
   "metadata": {},
   "source": [
    "# 8. Multiprocessing Pool Example to Compute Squares and Time Measurement"
   ]
  },
  {
   "cell_type": "markdown",
   "id": "dd1861f5",
   "metadata": {},
   "source": [
    "This program computes the square of numbers from 1 to 10 using the multiprocessing.Pool. We also measure the time taken by different pool sizes (e.g., 2, 4, 8 processes)."
   ]
  },
  {
   "cell_type": "code",
   "execution_count": null,
   "id": "bc3e946e",
   "metadata": {},
   "outputs": [],
   "source": [
    "import multiprocessing\n",
    "import time\n",
    "\n",
    "def square(n):\n",
    "    return n * n\n",
    "\n",
    "def compute_squares_with_pool(pool_size):\n",
    "    numbers = range(1, 11)\n",
    "    start_time = time.time()\n",
    "    \n",
    "    with multiprocessing.Pool(pool_size) as pool:\n",
    "        results = pool.map(square, numbers)\n",
    "    \n",
    "    end_time = time.time()\n",
    "    print(f'Pool size: {pool_size}, Time taken: {end_time - start_time:.4f} seconds')\n",
    "    print(f'Results: {results}')\n",
    "\n",
    "for size in [2, 4, 8]:\n",
    "    compute_squares_with_pool(size)"
   ]
  },
  {
   "cell_type": "markdown",
   "id": "2afa8bde",
   "metadata": {},
   "source": [
    "In this code:\n",
    "\n",
    "We define a square() function to compute the square of a number.\n",
    "The compute_squares_with_pool() function runs the computation in parallel using a pool of processes. We test the program with different pool sizes (2, 4, and 8) and measure the execution time for each pool size.\n",
    "This program demonstrates how using multiprocessing pools with different sizes affects the time taken for parallel computation."
   ]
  }
 ],
 "metadata": {
  "kernelspec": {
   "display_name": "Python 3 (ipykernel)",
   "language": "python",
   "name": "python3"
  },
  "language_info": {
   "codemirror_mode": {
    "name": "ipython",
    "version": 3
   },
   "file_extension": ".py",
   "mimetype": "text/x-python",
   "name": "python",
   "nbconvert_exporter": "python",
   "pygments_lexer": "ipython3",
   "version": "3.11.3"
  }
 },
 "nbformat": 4,
 "nbformat_minor": 5
}
